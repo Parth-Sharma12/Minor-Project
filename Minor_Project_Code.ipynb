{
  "nbformat": 4,
  "nbformat_minor": 0,
  "metadata": {
    "colab": {
      "name": "Minor Project Code.ipynb",
      "provenance": [],
      "collapsed_sections": []
    },
    "kernelspec": {
      "name": "python3",
      "display_name": "Python 3"
    },
    "language_info": {
      "name": "python"
    },
    "accelerator": "GPU"
  },
  "cells": [
    {
      "cell_type": "code",
      "metadata": {
        "id": "MhoUPIzQ9-K6",
        "colab": {
          "base_uri": "https://localhost:8080/"
        },
        "outputId": "b99e4ea3-7014-49c2-80cb-f85599cd9076"
      },
      "source": [
        "!pip install librosa"
      ],
      "execution_count": 2,
      "outputs": [
        {
          "output_type": "stream",
          "name": "stdout",
          "text": [
            "Requirement already satisfied: librosa in /usr/local/lib/python3.7/dist-packages (0.8.1)\n",
            "Requirement already satisfied: packaging>=20.0 in /usr/local/lib/python3.7/dist-packages (from librosa) (21.3)\n",
            "Requirement already satisfied: resampy>=0.2.2 in /usr/local/lib/python3.7/dist-packages (from librosa) (0.2.2)\n",
            "Requirement already satisfied: soundfile>=0.10.2 in /usr/local/lib/python3.7/dist-packages (from librosa) (0.10.3.post1)\n",
            "Requirement already satisfied: audioread>=2.0.0 in /usr/local/lib/python3.7/dist-packages (from librosa) (2.1.9)\n",
            "Requirement already satisfied: numpy>=1.15.0 in /usr/local/lib/python3.7/dist-packages (from librosa) (1.19.5)\n",
            "Requirement already satisfied: scipy>=1.0.0 in /usr/local/lib/python3.7/dist-packages (from librosa) (1.4.1)\n",
            "Requirement already satisfied: scikit-learn!=0.19.0,>=0.14.0 in /usr/local/lib/python3.7/dist-packages (from librosa) (1.0.2)\n",
            "Requirement already satisfied: joblib>=0.14 in /usr/local/lib/python3.7/dist-packages (from librosa) (1.1.0)\n",
            "Requirement already satisfied: pooch>=1.0 in /usr/local/lib/python3.7/dist-packages (from librosa) (1.6.0)\n",
            "Requirement already satisfied: numba>=0.43.0 in /usr/local/lib/python3.7/dist-packages (from librosa) (0.51.2)\n",
            "Requirement already satisfied: decorator>=3.0.0 in /usr/local/lib/python3.7/dist-packages (from librosa) (4.4.2)\n",
            "Requirement already satisfied: setuptools in /usr/local/lib/python3.7/dist-packages (from numba>=0.43.0->librosa) (57.4.0)\n",
            "Requirement already satisfied: llvmlite<0.35,>=0.34.0.dev0 in /usr/local/lib/python3.7/dist-packages (from numba>=0.43.0->librosa) (0.34.0)\n",
            "Requirement already satisfied: pyparsing!=3.0.5,>=2.0.2 in /usr/local/lib/python3.7/dist-packages (from packaging>=20.0->librosa) (3.0.7)\n",
            "Requirement already satisfied: appdirs>=1.3.0 in /usr/local/lib/python3.7/dist-packages (from pooch>=1.0->librosa) (1.4.4)\n",
            "Requirement already satisfied: requests>=2.19.0 in /usr/local/lib/python3.7/dist-packages (from pooch>=1.0->librosa) (2.23.0)\n",
            "Requirement already satisfied: urllib3!=1.25.0,!=1.25.1,<1.26,>=1.21.1 in /usr/local/lib/python3.7/dist-packages (from requests>=2.19.0->pooch>=1.0->librosa) (1.24.3)\n",
            "Requirement already satisfied: certifi>=2017.4.17 in /usr/local/lib/python3.7/dist-packages (from requests>=2.19.0->pooch>=1.0->librosa) (2021.10.8)\n",
            "Requirement already satisfied: idna<3,>=2.5 in /usr/local/lib/python3.7/dist-packages (from requests>=2.19.0->pooch>=1.0->librosa) (2.10)\n",
            "Requirement already satisfied: chardet<4,>=3.0.2 in /usr/local/lib/python3.7/dist-packages (from requests>=2.19.0->pooch>=1.0->librosa) (3.0.4)\n",
            "Requirement already satisfied: six>=1.3 in /usr/local/lib/python3.7/dist-packages (from resampy>=0.2.2->librosa) (1.15.0)\n",
            "Requirement already satisfied: threadpoolctl>=2.0.0 in /usr/local/lib/python3.7/dist-packages (from scikit-learn!=0.19.0,>=0.14.0->librosa) (3.1.0)\n",
            "Requirement already satisfied: cffi>=1.0 in /usr/local/lib/python3.7/dist-packages (from soundfile>=0.10.2->librosa) (1.15.0)\n",
            "Requirement already satisfied: pycparser in /usr/local/lib/python3.7/dist-packages (from cffi>=1.0->soundfile>=0.10.2->librosa) (2.21)\n"
          ]
        }
      ]
    },
    {
      "cell_type": "code",
      "metadata": {
        "id": "2bVcZ0EU_LoE"
      },
      "source": [
        "import matplotlib.pyplot as plt\n",
        "%matplotlib inline"
      ],
      "execution_count": 3,
      "outputs": []
    },
    {
      "cell_type": "code",
      "metadata": {
        "id": "T7g6sUQr_mkj"
      },
      "source": [
        "import librosa\n",
        "import librosa.display\n",
        "import IPython.display as ipd"
      ],
      "execution_count": 4,
      "outputs": []
    },
    {
      "cell_type": "code",
      "metadata": {
        "id": "CutJSOIrB3Nd",
        "colab": {
          "base_uri": "https://localhost:8080/",
          "height": 386
        },
        "outputId": "15c2e2d4-18ef-4a9f-e050-3c3fb289b30c"
      },
      "source": [
        "filename = (\"/content/drive/MyDrive/Minor Project/Sound.wav\")\n",
        "plt.figure(figsize=(10,5))\n",
        "\n",
        "# Displays wave form of data and sample rate recieved \n",
        "data , sample_rate = librosa.load(filename)\n",
        "librosa.display.waveplot(data , sr = sample_rate)  #LIBROSA CONVERTS SIGNAL INTO MONO CHANNEL i.e. single channel\n",
        "#PLays audio\n",
        "ipd.Audio(filename)\n",
        "\n",
        " \n",
        "print(sample_rate)\n",
        "print(data)\n",
        "\n",
        "\n",
        "#Sample_rate = The sampling rate refers to the number of samples of audio recorded every second. \n",
        "#It is measured in samples per second or Hertz (abbreviated as Hz or kHz, with one kHz being 1000 Hz). \n",
        "#An audio sample is just a number representing the measured acoustic wave value at a specific point in time"
      ],
      "execution_count": 5,
      "outputs": [
        {
          "output_type": "stream",
          "name": "stdout",
          "text": [
            "22050\n",
            "[ 0.          0.          0.         ...  0.00036545  0.00025941\n",
            " -0.00021183]\n"
          ]
        },
        {
          "output_type": "display_data",
          "data": {
            "image/png": "[encoded data removed]",
            "text/plain": [
              "<Figure size 720x360 with 1 Axes>"
            ]
          },
          "metadata": {
            "needs_background": "light"
          }
        }
      ]
    },
    {
      "cell_type": "code",
      "metadata": {
        "id": "47Av3MQEC4zR",
        "colab": {
          "base_uri": "https://localhost:8080/"
        },
        "outputId": "5924ca07-1e51-48f2-eb76-bcc0a891129f"
      },
      "source": [
        "import pandas as pd\n",
        "import numpy as np\n",
        "from tqdm import tqdm\n",
        "\n",
        "metadata = pd.read_csv(\"/content/drive/MyDrive/Minor Project/UrbanSound8K/metadata/UrbanSound8K.csv\")\n",
        "print(metadata)"
      ],
      "execution_count": 6,
      "outputs": [
        {
          "output_type": "stream",
          "name": "stdout",
          "text": [
            "         slice_file_name    fsID       start  ...  fold  classID             class\n",
            "0       100032-3-0-0.wav  100032    0.000000  ...     5        3          dog_bark\n",
            "1     100263-2-0-117.wav  100263   58.500000  ...     5        2  children_playing\n",
            "2     100263-2-0-121.wav  100263   60.500000  ...     5        2  children_playing\n",
            "3     100263-2-0-126.wav  100263   63.000000  ...     5        2  children_playing\n",
            "4     100263-2-0-137.wav  100263   68.500000  ...     5        2  children_playing\n",
            "...                  ...     ...         ...  ...   ...      ...               ...\n",
            "8727     99812-1-2-0.wav   99812  159.522205  ...     7        1          car_horn\n",
            "8728     99812-1-3-0.wav   99812  181.142431  ...     7        1          car_horn\n",
            "8729     99812-1-4-0.wav   99812  242.691902  ...     7        1          car_horn\n",
            "8730     99812-1-5-0.wav   99812  253.209850  ...     7        1          car_horn\n",
            "8731     99812-1-6-0.wav   99812  332.289233  ...     7        1          car_horn\n",
            "\n",
            "[8732 rows x 8 columns]\n"
          ]
        }
      ]
    },
    {
      "cell_type": "code",
      "metadata": {
        "id": "AmWsRt1sHduv",
        "colab": {
          "base_uri": "https://localhost:8080/",
          "height": 35
        },
        "outputId": "c0b0c6a5-bc9c-48d7-bbf0-04c011e67e5a"
      },
      "source": [
        " '''\n",
        " DATA = metadata.head(20)\n",
        " DATA.iloc[1]['start']\n",
        " '''"
      ],
      "execution_count": 7,
      "outputs": [
        {
          "output_type": "execute_result",
          "data": {
            "application/vnd.google.colaboratory.intrinsic+json": {
              "type": "string"
            },
            "text/plain": [
              "\"\\nDATA = metadata.head(20)\\nDATA.iloc[1]['start']\\n\""
            ]
          },
          "metadata": {},
          "execution_count": 7
        }
      ]
    },
    {
      "cell_type": "code",
      "metadata": {
        "id": "6EKRFrGoIKgm"
      },
      "source": [
        "\n",
        "def features_extractor(file):\n",
        "  #filename = \"/content/drive/MyDrive/Minor Project/UrbanSound8K/audio/fold{}/{}\".format(metadata.iloc[i][\"fold\"],metadata.iloc[i][\"slice_file_name\"])\n",
        "  data,sr = librosa.load(filename , res_type='kaiser_fast')\n",
        "  mfccs_features = librosa.feature.mfcc(y = data , sr=sr , n_mfcc=40)\n",
        "  mfccs_scaled_features = np.mean(mfccs_features.T,axis=0)\n",
        "  return mfccs_scaled_features\n"
      ],
      "execution_count": 8,
      "outputs": []
    },
    {
      "cell_type": "code",
      "metadata": {
        "id": "Gus1sM67KkyO",
        "colab": {
          "base_uri": "https://localhost:8080/"
        },
        "outputId": "c47ccc0b-5aab-40d9-a549-3fb2a9c31498"
      },
      "source": [
        "import numpy as np \n",
        "import os as os\n",
        "from tqdm import tqdm\n",
        "extracted_features = []\n",
        "for index_num,row in tqdm(metadata.iterrows()):\n",
        "  filename = os.path.join(os.path.abspath(\"/content/drive/MyDrive/Minor Project/UrbanSound8K/audio/\"),'fold'+str(row[\"fold\"])+'/',str(row[\"slice_file_name\"]))\n",
        "  final_class_labels= row[\"class\"]\n",
        "  data=features_extractor(filename)\n",
        "  extracted_features.append([data,final_class_labels])"
      ],
      "execution_count": 12,
      "outputs": [
        {
          "output_type": "stream",
          "name": "stderr",
          "text": [
            "3555it [37:25,  1.47it/s]/usr/local/lib/python3.7/dist-packages/librosa/core/spectrum.py:224: UserWarning: n_fft=2048 is too small for input signal of length=1323\n",
            "  n_fft, y.shape[-1]\n",
            "8326it [1:32:59,  1.64it/s]/usr/local/lib/python3.7/dist-packages/librosa/core/spectrum.py:224: UserWarning: n_fft=2048 is too small for input signal of length=1103\n",
            "  n_fft, y.shape[-1]\n",
            "8329it [1:33:01,  1.61it/s]/usr/local/lib/python3.7/dist-packages/librosa/core/spectrum.py:224: UserWarning: n_fft=2048 is too small for input signal of length=1523\n",
            "  n_fft, y.shape[-1]\n",
            "8732it [1:37:42,  1.49it/s]\n"
          ]
        }
      ]
    },
    {
      "cell_type": "code",
      "metadata": {
        "id": "MBdAeATLNnRr",
        "colab": {
          "base_uri": "https://localhost:8080/"
        },
        "outputId": "2c5dfd9b-8158-4dc3-a13d-1fe971e71309"
      },
      "source": [
        "Data = pd.DataFrame(extracted_features,columns=[\"Features\",\"Class\"])\n",
        "Features = np.array(Data[\"Features\"].tolist())\n",
        "\n",
        "Class = np.array(Data[\"Class\"].tolist())\n",
        "print(Features)\n",
        "\n",
        "print(Class)"
      ],
      "execution_count": 20,
      "outputs": [
        {
          "output_type": "stream",
          "name": "stdout",
          "text": [
            "[[-2.15793015e+02  7.16661224e+01 -1.31813766e+02 ... -1.68275905e+00\n",
            "  -8.85858238e-01  3.54388624e-01]\n",
            " [-4.24686768e+02  1.10562271e+02 -5.41482353e+01 ...  6.17408633e-01\n",
            "  -6.84974074e-01  5.71514428e-01]\n",
            " [-4.59564667e+02  1.22800354e+02 -4.79247093e+01 ...  2.22541404e+00\n",
            "   1.54661798e+00 -8.36315691e-01]\n",
            " ...\n",
            " [-3.04613159e+02  1.12619904e+02 -4.71619453e+01 ... -3.03358078e+00\n",
            "   2.71057296e+00  7.67189503e+00]\n",
            " [-3.44714233e+02  1.26758141e+02 -5.61771698e+01 ... -7.80225849e+00\n",
            "  -1.77907360e+00  5.83541918e+00]\n",
            " [-3.15933838e+02  9.56758881e+01 -3.80477676e+01 ...  5.77580512e-01\n",
            "  -1.14637651e+01 -5.96535349e+00]]\n",
            "['dog_bark' 'children_playing' 'children_playing' ... 'car_horn'\n",
            " 'car_horn' 'car_horn']\n"
          ]
        }
      ]
    },
    {
      "cell_type": "code",
      "metadata": {
        "id": "nM-uVZCuN0ya"
      },
      "source": [
        "Class_ = pd.get_dummies(Class)\n"
      ],
      "execution_count": 22,
      "outputs": []
    },
    {
      "cell_type": "code",
      "metadata": {
        "id": "Xk_KUweEN3fp"
      },
      "source": [
        "from sklearn.model_selection import train_test_split\n",
        "X_train,X_test,y_train,y_test = train_test_split(Features,Class_,train_size=0.2,random_state=0)"
      ],
      "execution_count": 40,
      "outputs": []
    },
    {
      "cell_type": "code",
      "source": [
        "print(X_train,y_train)"
      ],
      "metadata": {
        "colab": {
          "base_uri": "https://localhost:8080/"
        },
        "id": "plJIHz5POaES",
        "outputId": "6def4536-4321-4ab6-8f30-668f8b7acd89"
      },
      "execution_count": 41,
      "outputs": [
        {
          "output_type": "stream",
          "name": "stdout",
          "text": [
            "[[-3.0633170e+02  1.4802086e+02 -1.5899812e+01 ... -5.1457338e+00\n",
            "  -4.2918172e+00 -5.6642246e+00]\n",
            " [-3.3058130e+02  2.4216910e+02 -2.2019115e+01 ...  1.1878932e-01\n",
            "  -7.4800295e-01 -3.6139092e-01]\n",
            " [-5.4307560e+01 -8.5185671e+00 -4.9616684e+01 ... -5.4808997e-02\n",
            "  -8.8522464e-01  2.6737165e+00]\n",
            " ...\n",
            " [-4.2699329e+02  9.2890648e+01  3.0233369e+00 ...  8.6335993e-01\n",
            "   6.4766800e-01  7.8490508e-01]\n",
            " [-1.4607024e+02  1.3709459e+02 -3.4298344e+01 ...  1.3777871e+00\n",
            "  -1.9530842e+00 -8.9652115e-01]\n",
            " [-4.2167450e+02  2.1169032e+02  2.6820304e+00 ... -5.1484952e+00\n",
            "  -3.6400859e+00 -1.3321606e+00]]       air_conditioner  car_horn  ...  siren  street_music\n",
            "6655                0         0  ...      0             0\n",
            "5400                1         0  ...      0             0\n",
            "1546                0         0  ...      0             0\n",
            "1335                1         0  ...      0             0\n",
            "6385                0         0  ...      1             0\n",
            "...               ...       ...  ...    ...           ...\n",
            "4373                0         0  ...      0             0\n",
            "7891                1         0  ...      0             0\n",
            "4859                0         0  ...      0             0\n",
            "3264                1         0  ...      0             0\n",
            "2732                0         0  ...      1             0\n",
            "\n",
            "[1746 rows x 10 columns]\n"
          ]
        }
      ]
    },
    {
      "cell_type": "code",
      "source": [
        "import tensorflow as tf \n",
        "from tensorflow.keras.models import Sequential\n",
        "from tensorflow.keras.layers import Dense,Dropout,Activation,Flatten\n",
        "from tensorflow.keras.optimizers import Adam\n",
        "from sklearn import metrics"
      ],
      "metadata": {
        "id": "vv3zXYs8OotR"
      },
      "execution_count": 42,
      "outputs": []
    },
    {
      "cell_type": "code",
      "source": [
        "model = Sequential()\n",
        "model.add(Dense(100,input_shape=(40,)))\n",
        "model.add(Activation('relu'))\n",
        "model.add(Dropout(0.5))\n",
        "\n",
        "model.add(Dense(200))\n",
        "model.add(Activation('relu'))\n",
        "model.add(Dropout(0.5))\n",
        "\n",
        "model.add(Dense(100))\n",
        "model.add(Activation('relu'))\n",
        "model.add(Dropout(0.5))\n",
        "\n",
        "model.add(Dense(10))\n",
        "model.add(Activation('softmax'))"
      ],
      "metadata": {
        "id": "ez2w8-MLP8wQ"
      },
      "execution_count": 43,
      "outputs": []
    },
    {
      "cell_type": "code",
      "source": [
        "model.summary()"
      ],
      "metadata": {
        "colab": {
          "base_uri": "https://localhost:8080/"
        },
        "id": "h_ZDcU_uRHVj",
        "outputId": "f1e570d5-8d68-482f-967d-c240001fb26e"
      },
      "execution_count": 44,
      "outputs": [
        {
          "output_type": "stream",
          "name": "stdout",
          "text": [
            "Model: \"sequential_2\"\n",
            "_________________________________________________________________\n",
            " Layer (type)                Output Shape              Param #   \n",
            "=================================================================\n",
            " dense_8 (Dense)             (None, 100)               4100      \n",
            "                                                                 \n",
            " activation_8 (Activation)   (None, 100)               0         \n",
            "                                                                 \n",
            " dropout_6 (Dropout)         (None, 100)               0         \n",
            "                                                                 \n",
            " dense_9 (Dense)             (None, 200)               20200     \n",
            "                                                                 \n",
            " activation_9 (Activation)   (None, 200)               0         \n",
            "                                                                 \n",
            " dropout_7 (Dropout)         (None, 200)               0         \n",
            "                                                                 \n",
            " dense_10 (Dense)            (None, 100)               20100     \n",
            "                                                                 \n",
            " activation_10 (Activation)  (None, 100)               0         \n",
            "                                                                 \n",
            " dropout_8 (Dropout)         (None, 100)               0         \n",
            "                                                                 \n",
            " dense_11 (Dense)            (None, 10)                1010      \n",
            "                                                                 \n",
            " activation_11 (Activation)  (None, 10)                0         \n",
            "                                                                 \n",
            "=================================================================\n",
            "Total params: 45,410\n",
            "Trainable params: 45,410\n",
            "Non-trainable params: 0\n",
            "_________________________________________________________________\n"
          ]
        }
      ]
    },
    {
      "cell_type": "code",
      "source": [
        "model.compile(loss='categorical_crossentropy',metrics=['accuracy'],optimizer='adam')\n",
        "## Trianing my model\n",
        "from tensorflow.keras.callbacks import ModelCheckpoint\n",
        "from datetime import datetime \n",
        "\n",
        "num_epochs = 110\n",
        "num_batch_size = 16\n",
        "\n",
        "checkpointer = ModelCheckpoint(filepath='saved_models/audio_classification.hdf5', \n",
        "                               verbose=1, save_best_only=True)\n",
        "start = datetime.now()\n",
        "\n",
        "model.fit(X_train, y_train, batch_size=num_batch_size, epochs=num_epochs, validation_data=(X_test, y_test), callbacks=[checkpointer], verbose=1)\n",
        "\n",
        "\n",
        "duration = datetime.now() - start\n",
        "print(\"Training completed in time: \", duration)"
      ],
      "metadata": {
        "colab": {
          "base_uri": "https://localhost:8080/"
        },
        "id": "dpEQ5edxRJtu",
        "outputId": "2573bdeb-acd8-4e7d-f37a-35318be4965e"
      },
      "execution_count": 53,
      "outputs": [
        {
          "output_type": "stream",
          "name": "stdout",
          "text": [
            "Epoch 1/110\n",
            "106/110 [===========================>..] - ETA: 0s - loss: 0.7892 - accuracy: 0.7459\n",
            "Epoch 00001: val_loss improved from inf to 0.98939, saving model to saved_models/audio_classification.hdf5\n",
            "110/110 [==============================] - 2s 12ms/step - loss: 0.7862 - accuracy: 0.7474 - val_loss: 0.9894 - val_accuracy: 0.7276\n",
            "Epoch 2/110\n",
            " 94/110 [========================>.....] - ETA: 0s - loss: 0.7845 - accuracy: 0.7447\n",
            "Epoch 00002: val_loss improved from 0.98939 to 0.97982, saving model to saved_models/audio_classification.hdf5\n",
            "110/110 [==============================] - 2s 15ms/step - loss: 0.7810 - accuracy: 0.7446 - val_loss: 0.9798 - val_accuracy: 0.7267\n",
            "Epoch 3/110\n",
            " 98/110 [=========================>....] - ETA: 0s - loss: 0.8296 - accuracy: 0.7392\n",
            "Epoch 00003: val_loss improved from 0.97982 to 0.94167, saving model to saved_models/audio_classification.hdf5\n",
            "110/110 [==============================] - 1s 10ms/step - loss: 0.8134 - accuracy: 0.7440 - val_loss: 0.9417 - val_accuracy: 0.7352\n",
            "Epoch 4/110\n",
            "108/110 [============================>.] - ETA: 0s - loss: 0.7965 - accuracy: 0.7523\n",
            "Epoch 00004: val_loss did not improve from 0.94167\n",
            "110/110 [==============================] - 1s 10ms/step - loss: 0.7942 - accuracy: 0.7532 - val_loss: 0.9693 - val_accuracy: 0.7199\n",
            "Epoch 5/110\n",
            "104/110 [===========================>..] - ETA: 0s - loss: 0.7297 - accuracy: 0.7728\n",
            "Epoch 00005: val_loss improved from 0.94167 to 0.93972, saving model to saved_models/audio_classification.hdf5\n",
            "110/110 [==============================] - 2s 15ms/step - loss: 0.7354 - accuracy: 0.7721 - val_loss: 0.9397 - val_accuracy: 0.7317\n",
            "Epoch 6/110\n",
            "105/110 [===========================>..] - ETA: 0s - loss: 0.7684 - accuracy: 0.7583\n",
            "Epoch 00006: val_loss improved from 0.93972 to 0.93129, saving model to saved_models/audio_classification.hdf5\n",
            "110/110 [==============================] - 2s 15ms/step - loss: 0.7694 - accuracy: 0.7589 - val_loss: 0.9313 - val_accuracy: 0.7230\n",
            "Epoch 7/110\n",
            " 93/110 [========================>.....] - ETA: 0s - loss: 0.7623 - accuracy: 0.7520\n",
            "Epoch 00007: val_loss improved from 0.93129 to 0.92145, saving model to saved_models/audio_classification.hdf5\n",
            "110/110 [==============================] - 2s 15ms/step - loss: 0.7687 - accuracy: 0.7520 - val_loss: 0.9214 - val_accuracy: 0.7325\n",
            "Epoch 8/110\n",
            "108/110 [============================>.] - ETA: 0s - loss: 0.8218 - accuracy: 0.7361\n",
            "Epoch 00008: val_loss did not improve from 0.92145\n",
            "110/110 [==============================] - 1s 10ms/step - loss: 0.8252 - accuracy: 0.7360 - val_loss: 0.9530 - val_accuracy: 0.7249\n",
            "Epoch 9/110\n",
            "108/110 [============================>.] - ETA: 0s - loss: 0.8150 - accuracy: 0.7390\n",
            "Epoch 00009: val_loss did not improve from 0.92145\n",
            "110/110 [==============================] - 1s 10ms/step - loss: 0.8153 - accuracy: 0.7383 - val_loss: 0.9391 - val_accuracy: 0.7300\n",
            "Epoch 10/110\n",
            "105/110 [===========================>..] - ETA: 0s - loss: 0.7914 - accuracy: 0.7345\n",
            "Epoch 00010: val_loss did not improve from 0.92145\n",
            "110/110 [==============================] - 1s 10ms/step - loss: 0.7822 - accuracy: 0.7365 - val_loss: 0.9493 - val_accuracy: 0.7333\n",
            "Epoch 11/110\n",
            "109/110 [============================>.] - ETA: 0s - loss: 0.7514 - accuracy: 0.7655\n",
            "Epoch 00011: val_loss did not improve from 0.92145\n",
            "110/110 [==============================] - 1s 10ms/step - loss: 0.7524 - accuracy: 0.7652 - val_loss: 0.9252 - val_accuracy: 0.7293\n",
            "Epoch 12/110\n",
            "109/110 [============================>.] - ETA: 0s - loss: 0.7804 - accuracy: 0.7552\n",
            "Epoch 00012: val_loss did not improve from 0.92145\n",
            "110/110 [==============================] - 2s 15ms/step - loss: 0.7800 - accuracy: 0.7549 - val_loss: 0.9463 - val_accuracy: 0.7319\n",
            "Epoch 13/110\n",
            " 92/110 [========================>.....] - ETA: 0s - loss: 0.7926 - accuracy: 0.7473\n",
            "Epoch 00013: val_loss improved from 0.92145 to 0.91662, saving model to saved_models/audio_classification.hdf5\n",
            "110/110 [==============================] - 1s 10ms/step - loss: 0.8149 - accuracy: 0.7428 - val_loss: 0.9166 - val_accuracy: 0.7282\n",
            "Epoch 14/110\n",
            "109/110 [============================>.] - ETA: 0s - loss: 0.7187 - accuracy: 0.7609\n",
            "Epoch 00014: val_loss did not improve from 0.91662\n",
            "110/110 [==============================] - 1s 10ms/step - loss: 0.7194 - accuracy: 0.7606 - val_loss: 0.9233 - val_accuracy: 0.7343\n",
            "Epoch 15/110\n",
            "110/110 [==============================] - ETA: 0s - loss: 0.7587 - accuracy: 0.7554\n",
            "Epoch 00015: val_loss did not improve from 0.91662\n",
            "110/110 [==============================] - 1s 10ms/step - loss: 0.7587 - accuracy: 0.7554 - val_loss: 0.9352 - val_accuracy: 0.7276\n",
            "Epoch 16/110\n",
            "108/110 [============================>.] - ETA: 0s - loss: 0.7403 - accuracy: 0.7604\n",
            "Epoch 00016: val_loss did not improve from 0.91662\n",
            "110/110 [==============================] - 1s 10ms/step - loss: 0.7391 - accuracy: 0.7606 - val_loss: 0.9396 - val_accuracy: 0.7230\n",
            "Epoch 17/110\n",
            "109/110 [============================>.] - ETA: 0s - loss: 0.7586 - accuracy: 0.7477\n",
            "Epoch 00017: val_loss improved from 0.91662 to 0.89915, saving model to saved_models/audio_classification.hdf5\n",
            "110/110 [==============================] - 2s 15ms/step - loss: 0.7578 - accuracy: 0.7480 - val_loss: 0.8991 - val_accuracy: 0.7338\n",
            "Epoch 18/110\n",
            " 94/110 [========================>.....] - ETA: 0s - loss: 0.6882 - accuracy: 0.7693\n",
            "Epoch 00018: val_loss did not improve from 0.89915\n",
            "110/110 [==============================] - 1s 10ms/step - loss: 0.7135 - accuracy: 0.7595 - val_loss: 0.9311 - val_accuracy: 0.7319\n",
            "Epoch 19/110\n",
            " 94/110 [========================>.....] - ETA: 0s - loss: 0.7256 - accuracy: 0.7620\n",
            "Epoch 00019: val_loss did not improve from 0.89915\n",
            "110/110 [==============================] - 2s 14ms/step - loss: 0.7251 - accuracy: 0.7669 - val_loss: 0.9426 - val_accuracy: 0.7289\n",
            "Epoch 20/110\n",
            " 94/110 [========================>.....] - ETA: 0s - loss: 0.8005 - accuracy: 0.7467\n",
            "Epoch 00020: val_loss did not improve from 0.89915\n",
            "110/110 [==============================] - 1s 10ms/step - loss: 0.8062 - accuracy: 0.7423 - val_loss: 0.9447 - val_accuracy: 0.7232\n",
            "Epoch 21/110\n",
            " 94/110 [========================>.....] - ETA: 0s - loss: 0.7657 - accuracy: 0.7487\n",
            "Epoch 00021: val_loss did not improve from 0.89915\n",
            "110/110 [==============================] - 1s 10ms/step - loss: 0.7849 - accuracy: 0.7440 - val_loss: 0.9129 - val_accuracy: 0.7300\n",
            "Epoch 22/110\n",
            " 93/110 [========================>.....] - ETA: 0s - loss: 0.7300 - accuracy: 0.7655\n",
            "Epoch 00022: val_loss did not improve from 0.89915\n",
            "110/110 [==============================] - 1s 10ms/step - loss: 0.7380 - accuracy: 0.7617 - val_loss: 0.9169 - val_accuracy: 0.7257\n",
            "Epoch 23/110\n",
            " 94/110 [========================>.....] - ETA: 0s - loss: 0.7301 - accuracy: 0.7467\n",
            "Epoch 00023: val_loss did not improve from 0.89915\n",
            "110/110 [==============================] - 2s 15ms/step - loss: 0.7311 - accuracy: 0.7526 - val_loss: 0.9385 - val_accuracy: 0.7265\n",
            "Epoch 24/110\n",
            "108/110 [============================>.] - ETA: 0s - loss: 0.7658 - accuracy: 0.7546\n",
            "Epoch 00024: val_loss did not improve from 0.89915\n",
            "110/110 [==============================] - 1s 10ms/step - loss: 0.7638 - accuracy: 0.7549 - val_loss: 0.9254 - val_accuracy: 0.7249\n",
            "Epoch 25/110\n",
            " 96/110 [=========================>....] - ETA: 0s - loss: 0.7836 - accuracy: 0.7507\n",
            "Epoch 00025: val_loss did not improve from 0.89915\n",
            "110/110 [==============================] - 1s 10ms/step - loss: 0.7751 - accuracy: 0.7514 - val_loss: 0.9064 - val_accuracy: 0.7336\n",
            "Epoch 26/110\n",
            " 93/110 [========================>.....] - ETA: 0s - loss: 0.7515 - accuracy: 0.7601\n",
            "Epoch 00026: val_loss did not improve from 0.89915\n",
            "110/110 [==============================] - 1s 10ms/step - loss: 0.7572 - accuracy: 0.7566 - val_loss: 0.9146 - val_accuracy: 0.7272\n",
            "Epoch 27/110\n",
            " 94/110 [========================>.....] - ETA: 0s - loss: 0.7910 - accuracy: 0.7480\n",
            "Epoch 00027: val_loss did not improve from 0.89915\n",
            "110/110 [==============================] - 2s 14ms/step - loss: 0.7928 - accuracy: 0.7463 - val_loss: 0.9241 - val_accuracy: 0.7295\n",
            "Epoch 28/110\n",
            "108/110 [============================>.] - ETA: 0s - loss: 0.8477 - accuracy: 0.7280\n",
            "Epoch 00028: val_loss did not improve from 0.89915\n",
            "110/110 [==============================] - 1s 10ms/step - loss: 0.8564 - accuracy: 0.7285 - val_loss: 0.9120 - val_accuracy: 0.7283\n",
            "Epoch 29/110\n",
            "108/110 [============================>.] - ETA: 0s - loss: 0.7395 - accuracy: 0.7517\n",
            "Epoch 00029: val_loss did not improve from 0.89915\n",
            "110/110 [==============================] - 1s 10ms/step - loss: 0.7368 - accuracy: 0.7514 - val_loss: 0.9304 - val_accuracy: 0.7307\n",
            "Epoch 30/110\n",
            "106/110 [===========================>..] - ETA: 0s - loss: 0.7500 - accuracy: 0.7588\n",
            "Epoch 00030: val_loss did not improve from 0.89915\n",
            "110/110 [==============================] - 2s 15ms/step - loss: 0.7464 - accuracy: 0.7589 - val_loss: 0.9345 - val_accuracy: 0.7328\n",
            "Epoch 31/110\n",
            " 95/110 [========================>.....] - ETA: 0s - loss: 0.7628 - accuracy: 0.7546\n",
            "Epoch 00031: val_loss did not improve from 0.89915\n",
            "110/110 [==============================] - 2s 15ms/step - loss: 0.7823 - accuracy: 0.7577 - val_loss: 0.9475 - val_accuracy: 0.7269\n",
            "Epoch 32/110\n",
            "107/110 [============================>.] - ETA: 0s - loss: 0.7750 - accuracy: 0.7407\n",
            "Epoch 00032: val_loss did not improve from 0.89915\n",
            "110/110 [==============================] - 1s 10ms/step - loss: 0.7783 - accuracy: 0.7394 - val_loss: 0.9367 - val_accuracy: 0.7376\n",
            "Epoch 33/110\n",
            " 94/110 [========================>.....] - ETA: 0s - loss: 0.7158 - accuracy: 0.7646\n",
            "Epoch 00033: val_loss did not improve from 0.89915\n",
            "110/110 [==============================] - 2s 15ms/step - loss: 0.7171 - accuracy: 0.7646 - val_loss: 0.9439 - val_accuracy: 0.7370\n",
            "Epoch 34/110\n",
            "109/110 [============================>.] - ETA: 0s - loss: 0.7727 - accuracy: 0.7500\n",
            "Epoch 00034: val_loss did not improve from 0.89915\n",
            "110/110 [==============================] - 2s 15ms/step - loss: 0.7721 - accuracy: 0.7503 - val_loss: 0.9211 - val_accuracy: 0.7378\n",
            "Epoch 35/110\n",
            " 92/110 [========================>.....] - ETA: 0s - loss: 0.7587 - accuracy: 0.7622\n",
            "Epoch 00035: val_loss did not improve from 0.89915\n",
            "110/110 [==============================] - 1s 10ms/step - loss: 0.7699 - accuracy: 0.7589 - val_loss: 0.8995 - val_accuracy: 0.7428\n",
            "Epoch 36/110\n",
            "107/110 [============================>.] - ETA: 0s - loss: 0.7687 - accuracy: 0.7518\n",
            "Epoch 00036: val_loss did not improve from 0.89915\n",
            "110/110 [==============================] - 2s 15ms/step - loss: 0.7639 - accuracy: 0.7526 - val_loss: 0.9377 - val_accuracy: 0.7263\n",
            "Epoch 37/110\n",
            "108/110 [============================>.] - ETA: 0s - loss: 0.7860 - accuracy: 0.7402\n",
            "Epoch 00037: val_loss did not improve from 0.89915\n",
            "110/110 [==============================] - 2s 15ms/step - loss: 0.7831 - accuracy: 0.7411 - val_loss: 0.9077 - val_accuracy: 0.7279\n",
            "Epoch 38/110\n",
            " 92/110 [========================>.....] - ETA: 0s - loss: 0.7737 - accuracy: 0.7527\n",
            "Epoch 00038: val_loss did not improve from 0.89915\n",
            "110/110 [==============================] - 1s 10ms/step - loss: 0.7999 - accuracy: 0.7457 - val_loss: 0.9195 - val_accuracy: 0.7279\n",
            "Epoch 39/110\n",
            "109/110 [============================>.] - ETA: 0s - loss: 0.7350 - accuracy: 0.7563\n",
            "Epoch 00039: val_loss did not improve from 0.89915\n",
            "110/110 [==============================] - 1s 10ms/step - loss: 0.7351 - accuracy: 0.7560 - val_loss: 0.9171 - val_accuracy: 0.7302\n",
            "Epoch 40/110\n",
            "108/110 [============================>.] - ETA: 0s - loss: 0.7446 - accuracy: 0.7564\n",
            "Epoch 00040: val_loss did not improve from 0.89915\n",
            "110/110 [==============================] - 2s 15ms/step - loss: 0.7440 - accuracy: 0.7572 - val_loss: 0.9124 - val_accuracy: 0.7287\n",
            "Epoch 41/110\n",
            "106/110 [===========================>..] - ETA: 0s - loss: 0.7572 - accuracy: 0.7482\n",
            "Epoch 00041: val_loss did not improve from 0.89915\n",
            "110/110 [==============================] - 1s 10ms/step - loss: 0.7529 - accuracy: 0.7468 - val_loss: 0.9127 - val_accuracy: 0.7293\n",
            "Epoch 42/110\n",
            " 92/110 [========================>.....] - ETA: 0s - loss: 0.7871 - accuracy: 0.7439\n",
            "Epoch 00042: val_loss did not improve from 0.89915\n",
            "110/110 [==============================] - 2s 15ms/step - loss: 0.7807 - accuracy: 0.7446 - val_loss: 0.9114 - val_accuracy: 0.7332\n",
            "Epoch 43/110\n",
            "105/110 [===========================>..] - ETA: 0s - loss: 0.7671 - accuracy: 0.7452\n",
            "Epoch 00043: val_loss improved from 0.89915 to 0.88829, saving model to saved_models/audio_classification.hdf5\n",
            "110/110 [==============================] - 2s 15ms/step - loss: 0.7755 - accuracy: 0.7428 - val_loss: 0.8883 - val_accuracy: 0.7300\n",
            "Epoch 44/110\n",
            "105/110 [===========================>..] - ETA: 0s - loss: 0.7861 - accuracy: 0.7452\n",
            "Epoch 00044: val_loss did not improve from 0.88829\n",
            "110/110 [==============================] - 1s 10ms/step - loss: 0.7718 - accuracy: 0.7514 - val_loss: 0.9194 - val_accuracy: 0.7322\n",
            "Epoch 45/110\n",
            " 94/110 [========================>.....] - ETA: 0s - loss: 0.7712 - accuracy: 0.7467\n",
            "Epoch 00045: val_loss did not improve from 0.88829\n",
            "110/110 [==============================] - 2s 15ms/step - loss: 0.7847 - accuracy: 0.7463 - val_loss: 0.9296 - val_accuracy: 0.7270\n",
            "Epoch 46/110\n",
            "104/110 [===========================>..] - ETA: 0s - loss: 0.7245 - accuracy: 0.7590\n",
            "Epoch 00046: val_loss did not improve from 0.88829\n",
            "110/110 [==============================] - 2s 15ms/step - loss: 0.7176 - accuracy: 0.7623 - val_loss: 0.9039 - val_accuracy: 0.7316\n",
            "Epoch 47/110\n",
            " 94/110 [========================>.....] - ETA: 0s - loss: 0.7587 - accuracy: 0.7553\n",
            "Epoch 00047: val_loss did not improve from 0.88829\n",
            "110/110 [==============================] - 1s 10ms/step - loss: 0.7620 - accuracy: 0.7509 - val_loss: 0.9182 - val_accuracy: 0.7342\n",
            "Epoch 48/110\n",
            "110/110 [==============================] - ETA: 0s - loss: 0.7642 - accuracy: 0.7446\n",
            "Epoch 00048: val_loss did not improve from 0.88829\n",
            "110/110 [==============================] - 2s 15ms/step - loss: 0.7642 - accuracy: 0.7446 - val_loss: 0.9502 - val_accuracy: 0.7214\n",
            "Epoch 49/110\n",
            "110/110 [==============================] - ETA: 0s - loss: 0.7653 - accuracy: 0.7491\n",
            "Epoch 00049: val_loss did not improve from 0.88829\n",
            "110/110 [==============================] - 1s 10ms/step - loss: 0.7653 - accuracy: 0.7491 - val_loss: 0.9116 - val_accuracy: 0.7287\n",
            "Epoch 50/110\n",
            " 98/110 [=========================>....] - ETA: 0s - loss: 0.7649 - accuracy: 0.7577\n",
            "Epoch 00050: val_loss did not improve from 0.88829\n",
            "110/110 [==============================] - 1s 10ms/step - loss: 0.7717 - accuracy: 0.7543 - val_loss: 0.9239 - val_accuracy: 0.7315\n",
            "Epoch 51/110\n",
            "109/110 [============================>.] - ETA: 0s - loss: 0.7605 - accuracy: 0.7454\n",
            "Epoch 00051: val_loss did not improve from 0.88829\n",
            "110/110 [==============================] - 1s 10ms/step - loss: 0.7596 - accuracy: 0.7457 - val_loss: 0.9092 - val_accuracy: 0.7328\n",
            "Epoch 52/110\n",
            "108/110 [============================>.] - ETA: 0s - loss: 0.8000 - accuracy: 0.7494\n",
            "Epoch 00052: val_loss did not improve from 0.88829\n",
            "110/110 [==============================] - 2s 15ms/step - loss: 0.7982 - accuracy: 0.7486 - val_loss: 0.9119 - val_accuracy: 0.7328\n",
            "Epoch 53/110\n",
            " 92/110 [========================>.....] - ETA: 0s - loss: 0.8640 - accuracy: 0.7194\n",
            "Epoch 00053: val_loss did not improve from 0.88829\n",
            "110/110 [==============================] - 2s 15ms/step - loss: 0.8491 - accuracy: 0.7228 - val_loss: 0.9158 - val_accuracy: 0.7273\n",
            "Epoch 54/110\n",
            "103/110 [===========================>..] - ETA: 0s - loss: 0.7773 - accuracy: 0.7524\n",
            "Epoch 00054: val_loss did not improve from 0.88829\n",
            "110/110 [==============================] - 2s 15ms/step - loss: 0.7797 - accuracy: 0.7532 - val_loss: 0.9131 - val_accuracy: 0.7330\n",
            "Epoch 55/110\n",
            "106/110 [===========================>..] - ETA: 0s - loss: 0.7452 - accuracy: 0.7494\n",
            "Epoch 00055: val_loss did not improve from 0.88829\n",
            "110/110 [==============================] - 3s 30ms/step - loss: 0.7469 - accuracy: 0.7480 - val_loss: 0.9406 - val_accuracy: 0.7296\n",
            "Epoch 56/110\n",
            " 98/110 [=========================>....] - ETA: 0s - loss: 0.7862 - accuracy: 0.7423\n",
            "Epoch 00056: val_loss did not improve from 0.88829\n",
            "110/110 [==============================] - 2s 17ms/step - loss: 0.7715 - accuracy: 0.7463 - val_loss: 0.9026 - val_accuracy: 0.7332\n",
            "Epoch 57/110\n",
            "108/110 [============================>.] - ETA: 0s - loss: 0.8225 - accuracy: 0.7413\n",
            "Epoch 00057: val_loss did not improve from 0.88829\n",
            "110/110 [==============================] - 2s 15ms/step - loss: 0.8185 - accuracy: 0.7428 - val_loss: 0.9149 - val_accuracy: 0.7255\n",
            "Epoch 58/110\n",
            "102/110 [==========================>...] - ETA: 0s - loss: 0.7175 - accuracy: 0.7708\n",
            "Epoch 00058: val_loss did not improve from 0.88829\n",
            "110/110 [==============================] - 1s 10ms/step - loss: 0.7134 - accuracy: 0.7721 - val_loss: 0.9078 - val_accuracy: 0.7266\n",
            "Epoch 59/110\n",
            "104/110 [===========================>..] - ETA: 0s - loss: 0.7470 - accuracy: 0.7536\n",
            "Epoch 00059: val_loss did not improve from 0.88829\n",
            "110/110 [==============================] - 1s 10ms/step - loss: 0.7515 - accuracy: 0.7537 - val_loss: 0.9222 - val_accuracy: 0.7269\n",
            "Epoch 60/110\n",
            "109/110 [============================>.] - ETA: 0s - loss: 0.7635 - accuracy: 0.7517\n",
            "Epoch 00060: val_loss did not improve from 0.88829\n",
            "110/110 [==============================] - 1s 10ms/step - loss: 0.7634 - accuracy: 0.7514 - val_loss: 0.9206 - val_accuracy: 0.7289\n",
            "Epoch 61/110\n",
            "106/110 [===========================>..] - ETA: 0s - loss: 0.7898 - accuracy: 0.7412\n",
            "Epoch 00061: val_loss did not improve from 0.88829\n",
            "110/110 [==============================] - 1s 10ms/step - loss: 0.7905 - accuracy: 0.7411 - val_loss: 0.8938 - val_accuracy: 0.7322\n",
            "Epoch 62/110\n",
            "107/110 [============================>.] - ETA: 0s - loss: 0.7648 - accuracy: 0.7453\n",
            "Epoch 00062: val_loss did not improve from 0.88829\n",
            "110/110 [==============================] - 2s 15ms/step - loss: 0.7654 - accuracy: 0.7451 - val_loss: 0.9280 - val_accuracy: 0.7212\n",
            "Epoch 63/110\n",
            " 97/110 [=========================>....] - ETA: 0s - loss: 0.7909 - accuracy: 0.7558\n",
            "Epoch 00063: val_loss did not improve from 0.88829\n",
            "110/110 [==============================] - 1s 10ms/step - loss: 0.7922 - accuracy: 0.7503 - val_loss: 0.9080 - val_accuracy: 0.7289\n",
            "Epoch 64/110\n",
            "101/110 [==========================>...] - ETA: 0s - loss: 0.7367 - accuracy: 0.7673\n",
            "Epoch 00064: val_loss did not improve from 0.88829\n",
            "110/110 [==============================] - 1s 10ms/step - loss: 0.7346 - accuracy: 0.7675 - val_loss: 0.9072 - val_accuracy: 0.7307\n",
            "Epoch 65/110\n",
            "103/110 [===========================>..] - ETA: 0s - loss: 0.7277 - accuracy: 0.7579\n",
            "Epoch 00065: val_loss did not improve from 0.88829\n",
            "110/110 [==============================] - 2s 15ms/step - loss: 0.7243 - accuracy: 0.7600 - val_loss: 0.9171 - val_accuracy: 0.7305\n",
            "Epoch 66/110\n",
            "106/110 [===========================>..] - ETA: 0s - loss: 0.7354 - accuracy: 0.7588\n",
            "Epoch 00066: val_loss did not improve from 0.88829\n",
            "110/110 [==============================] - 1s 11ms/step - loss: 0.7331 - accuracy: 0.7595 - val_loss: 0.9198 - val_accuracy: 0.7289\n",
            "Epoch 67/110\n",
            "103/110 [===========================>..] - ETA: 0s - loss: 0.7717 - accuracy: 0.7379\n",
            "Epoch 00067: val_loss did not improve from 0.88829\n",
            "110/110 [==============================] - 1s 10ms/step - loss: 0.7797 - accuracy: 0.7360 - val_loss: 0.9268 - val_accuracy: 0.7244\n",
            "Epoch 68/110\n",
            "108/110 [============================>.] - ETA: 0s - loss: 0.7841 - accuracy: 0.7459\n",
            "Epoch 00068: val_loss did not improve from 0.88829\n",
            "110/110 [==============================] - 1s 10ms/step - loss: 0.7823 - accuracy: 0.7463 - val_loss: 0.9171 - val_accuracy: 0.7229\n",
            "Epoch 69/110\n",
            " 95/110 [========================>.....] - ETA: 0s - loss: 0.6960 - accuracy: 0.7776\n",
            "Epoch 00069: val_loss did not improve from 0.88829\n",
            "110/110 [==============================] - 1s 11ms/step - loss: 0.6926 - accuracy: 0.7749 - val_loss: 0.9217 - val_accuracy: 0.7330\n",
            "Epoch 70/110\n",
            "106/110 [===========================>..] - ETA: 0s - loss: 0.7462 - accuracy: 0.7535\n",
            "Epoch 00070: val_loss did not improve from 0.88829\n",
            "110/110 [==============================] - 2s 15ms/step - loss: 0.7443 - accuracy: 0.7532 - val_loss: 0.9707 - val_accuracy: 0.7302\n",
            "Epoch 71/110\n",
            "104/110 [===========================>..] - ETA: 0s - loss: 0.7280 - accuracy: 0.7572\n",
            "Epoch 00071: val_loss did not improve from 0.88829\n",
            "110/110 [==============================] - 2s 15ms/step - loss: 0.7241 - accuracy: 0.7589 - val_loss: 0.9290 - val_accuracy: 0.7386\n",
            "Epoch 72/110\n",
            "108/110 [============================>.] - ETA: 0s - loss: 0.7575 - accuracy: 0.7535\n",
            "Epoch 00072: val_loss did not improve from 0.88829\n",
            "110/110 [==============================] - 2s 15ms/step - loss: 0.7604 - accuracy: 0.7514 - val_loss: 0.9478 - val_accuracy: 0.7292\n",
            "Epoch 73/110\n",
            "108/110 [============================>.] - ETA: 0s - loss: 0.7884 - accuracy: 0.7529\n",
            "Epoch 00073: val_loss did not improve from 0.88829\n",
            "110/110 [==============================] - 1s 10ms/step - loss: 0.7854 - accuracy: 0.7537 - val_loss: 0.9528 - val_accuracy: 0.7343\n",
            "Epoch 74/110\n",
            "102/110 [==========================>...] - ETA: 0s - loss: 0.8062 - accuracy: 0.7408\n",
            "Epoch 00074: val_loss did not improve from 0.88829\n",
            "110/110 [==============================] - 1s 10ms/step - loss: 0.7991 - accuracy: 0.7451 - val_loss: 0.9240 - val_accuracy: 0.7296\n",
            "Epoch 75/110\n",
            "110/110 [==============================] - ETA: 0s - loss: 0.7401 - accuracy: 0.7509\n",
            "Epoch 00075: val_loss did not improve from 0.88829\n",
            "110/110 [==============================] - 1s 10ms/step - loss: 0.7401 - accuracy: 0.7509 - val_loss: 0.9203 - val_accuracy: 0.7300\n",
            "Epoch 76/110\n",
            "107/110 [============================>.] - ETA: 0s - loss: 0.7866 - accuracy: 0.7471\n",
            "Epoch 00076: val_loss did not improve from 0.88829\n",
            "110/110 [==============================] - 2s 15ms/step - loss: 0.7873 - accuracy: 0.7474 - val_loss: 0.9424 - val_accuracy: 0.7242\n",
            "Epoch 77/110\n",
            "106/110 [===========================>..] - ETA: 0s - loss: 0.7664 - accuracy: 0.7588\n",
            "Epoch 00077: val_loss did not improve from 0.88829\n",
            "110/110 [==============================] - 2s 15ms/step - loss: 0.7614 - accuracy: 0.7595 - val_loss: 0.9186 - val_accuracy: 0.7328\n",
            "Epoch 78/110\n",
            "106/110 [===========================>..] - ETA: 0s - loss: 0.7309 - accuracy: 0.7653\n",
            "Epoch 00078: val_loss did not improve from 0.88829\n",
            "110/110 [==============================] - 1s 10ms/step - loss: 0.7300 - accuracy: 0.7652 - val_loss: 0.9470 - val_accuracy: 0.7283\n",
            "Epoch 79/110\n",
            "109/110 [============================>.] - ETA: 0s - loss: 0.7893 - accuracy: 0.7460\n",
            "Epoch 00079: val_loss did not improve from 0.88829\n",
            "110/110 [==============================] - 2s 15ms/step - loss: 0.7905 - accuracy: 0.7457 - val_loss: 0.9033 - val_accuracy: 0.7345\n",
            "Epoch 80/110\n",
            "106/110 [===========================>..] - ETA: 0s - loss: 0.7980 - accuracy: 0.7488\n",
            "Epoch 00080: val_loss did not improve from 0.88829\n",
            "110/110 [==============================] - 2s 15ms/step - loss: 0.7913 - accuracy: 0.7503 - val_loss: 0.9012 - val_accuracy: 0.7319\n",
            "Epoch 81/110\n",
            "106/110 [===========================>..] - ETA: 0s - loss: 0.7716 - accuracy: 0.7571\n",
            "Epoch 00081: val_loss did not improve from 0.88829\n",
            "110/110 [==============================] - 1s 10ms/step - loss: 0.7766 - accuracy: 0.7554 - val_loss: 0.9239 - val_accuracy: 0.7253\n",
            "Epoch 82/110\n",
            "102/110 [==========================>...] - ETA: 0s - loss: 0.7616 - accuracy: 0.7567\n",
            "Epoch 00082: val_loss did not improve from 0.88829\n",
            "110/110 [==============================] - 2s 15ms/step - loss: 0.7538 - accuracy: 0.7589 - val_loss: 0.8992 - val_accuracy: 0.7330\n",
            "Epoch 83/110\n",
            "108/110 [============================>.] - ETA: 0s - loss: 0.7293 - accuracy: 0.7587\n",
            "Epoch 00083: val_loss did not improve from 0.88829\n",
            "110/110 [==============================] - 1s 10ms/step - loss: 0.7302 - accuracy: 0.7595 - val_loss: 0.9237 - val_accuracy: 0.7277\n",
            "Epoch 84/110\n",
            "108/110 [============================>.] - ETA: 0s - loss: 0.7303 - accuracy: 0.7512\n",
            "Epoch 00084: val_loss did not improve from 0.88829\n",
            "110/110 [==============================] - 2s 15ms/step - loss: 0.7292 - accuracy: 0.7509 - val_loss: 0.9323 - val_accuracy: 0.7285\n",
            "Epoch 85/110\n",
            "103/110 [===========================>..] - ETA: 0s - loss: 0.7419 - accuracy: 0.7579\n",
            "Epoch 00085: val_loss did not improve from 0.88829\n",
            "110/110 [==============================] - 1s 10ms/step - loss: 0.7454 - accuracy: 0.7554 - val_loss: 0.9427 - val_accuracy: 0.7267\n",
            "Epoch 86/110\n",
            "108/110 [============================>.] - ETA: 0s - loss: 0.7114 - accuracy: 0.7633\n",
            "Epoch 00086: val_loss did not improve from 0.88829\n",
            "110/110 [==============================] - 1s 10ms/step - loss: 0.7107 - accuracy: 0.7640 - val_loss: 0.9192 - val_accuracy: 0.7309\n",
            "Epoch 87/110\n",
            "106/110 [===========================>..] - ETA: 0s - loss: 0.7544 - accuracy: 0.7624\n",
            "Epoch 00087: val_loss did not improve from 0.88829\n",
            "110/110 [==============================] - 1s 10ms/step - loss: 0.7465 - accuracy: 0.7652 - val_loss: 0.9429 - val_accuracy: 0.7333\n",
            "Epoch 88/110\n",
            "110/110 [==============================] - ETA: 0s - loss: 0.7901 - accuracy: 0.7600\n",
            "Epoch 00088: val_loss did not improve from 0.88829\n",
            "110/110 [==============================] - 1s 10ms/step - loss: 0.7901 - accuracy: 0.7600 - val_loss: 0.9264 - val_accuracy: 0.7262\n",
            "Epoch 89/110\n",
            "105/110 [===========================>..] - ETA: 0s - loss: 0.7504 - accuracy: 0.7476\n",
            "Epoch 00089: val_loss did not improve from 0.88829\n",
            "110/110 [==============================] - 1s 10ms/step - loss: 0.7507 - accuracy: 0.7509 - val_loss: 0.9204 - val_accuracy: 0.7309\n",
            "Epoch 90/110\n",
            " 93/110 [========================>.....] - ETA: 0s - loss: 0.7828 - accuracy: 0.7500\n",
            "Epoch 00090: val_loss did not improve from 0.88829\n",
            "110/110 [==============================] - 1s 10ms/step - loss: 0.7951 - accuracy: 0.7468 - val_loss: 0.9271 - val_accuracy: 0.7396\n",
            "Epoch 91/110\n",
            "106/110 [===========================>..] - ETA: 0s - loss: 0.7497 - accuracy: 0.7588\n",
            "Epoch 00091: val_loss did not improve from 0.88829\n",
            "110/110 [==============================] - 1s 10ms/step - loss: 0.7516 - accuracy: 0.7572 - val_loss: 0.9405 - val_accuracy: 0.7267\n",
            "Epoch 92/110\n",
            "108/110 [============================>.] - ETA: 0s - loss: 0.7834 - accuracy: 0.7431\n",
            "Epoch 00092: val_loss did not improve from 0.88829\n",
            "110/110 [==============================] - 1s 10ms/step - loss: 0.7861 - accuracy: 0.7428 - val_loss: 0.9568 - val_accuracy: 0.7209\n",
            "Epoch 93/110\n",
            " 98/110 [=========================>....] - ETA: 0s - loss: 0.7336 - accuracy: 0.7538\n",
            "Epoch 00093: val_loss did not improve from 0.88829\n",
            "110/110 [==============================] - 1s 10ms/step - loss: 0.7374 - accuracy: 0.7532 - val_loss: 0.9462 - val_accuracy: 0.7286\n",
            "Epoch 94/110\n",
            "107/110 [============================>.] - ETA: 0s - loss: 0.7224 - accuracy: 0.7675\n",
            "Epoch 00094: val_loss did not improve from 0.88829\n",
            "110/110 [==============================] - 1s 10ms/step - loss: 0.7214 - accuracy: 0.7675 - val_loss: 0.9343 - val_accuracy: 0.7353\n",
            "Epoch 95/110\n",
            "103/110 [===========================>..] - ETA: 0s - loss: 0.7828 - accuracy: 0.7591\n",
            "Epoch 00095: val_loss did not improve from 0.88829\n",
            "110/110 [==============================] - 1s 10ms/step - loss: 0.7832 - accuracy: 0.7600 - val_loss: 0.9589 - val_accuracy: 0.7242\n",
            "Epoch 96/110\n",
            "103/110 [===========================>..] - ETA: 0s - loss: 0.7027 - accuracy: 0.7743\n",
            "Epoch 00096: val_loss did not improve from 0.88829\n",
            "110/110 [==============================] - 1s 10ms/step - loss: 0.7259 - accuracy: 0.7669 - val_loss: 0.9278 - val_accuracy: 0.7292\n",
            "Epoch 97/110\n",
            "103/110 [===========================>..] - ETA: 0s - loss: 0.7130 - accuracy: 0.7627\n",
            "Epoch 00097: val_loss did not improve from 0.88829\n",
            "110/110 [==============================] - 1s 10ms/step - loss: 0.7132 - accuracy: 0.7635 - val_loss: 0.9380 - val_accuracy: 0.7252\n",
            "Epoch 98/110\n",
            "102/110 [==========================>...] - ETA: 0s - loss: 0.7785 - accuracy: 0.7616\n",
            "Epoch 00098: val_loss did not improve from 0.88829\n",
            "110/110 [==============================] - 1s 10ms/step - loss: 0.7963 - accuracy: 0.7560 - val_loss: 0.9468 - val_accuracy: 0.7265\n",
            "Epoch 99/110\n",
            "100/110 [==========================>...] - ETA: 0s - loss: 0.7515 - accuracy: 0.7619\n",
            "Epoch 00099: val_loss did not improve from 0.88829\n",
            "110/110 [==============================] - 1s 10ms/step - loss: 0.7559 - accuracy: 0.7583 - val_loss: 0.9158 - val_accuracy: 0.7315\n",
            "Epoch 100/110\n",
            " 98/110 [=========================>....] - ETA: 0s - loss: 0.7683 - accuracy: 0.7417\n",
            "Epoch 00100: val_loss did not improve from 0.88829\n",
            "110/110 [==============================] - 1s 10ms/step - loss: 0.7912 - accuracy: 0.7354 - val_loss: 0.9413 - val_accuracy: 0.7194\n",
            "Epoch 101/110\n",
            "109/110 [============================>.] - ETA: 0s - loss: 0.7876 - accuracy: 0.7454\n",
            "Epoch 00101: val_loss did not improve from 0.88829\n",
            "110/110 [==============================] - 1s 10ms/step - loss: 0.7873 - accuracy: 0.7457 - val_loss: 0.9278 - val_accuracy: 0.7316\n",
            "Epoch 102/110\n",
            "110/110 [==============================] - ETA: 0s - loss: 0.7784 - accuracy: 0.7388\n",
            "Epoch 00102: val_loss did not improve from 0.88829\n",
            "110/110 [==============================] - 2s 15ms/step - loss: 0.7784 - accuracy: 0.7388 - val_loss: 0.9052 - val_accuracy: 0.7328\n",
            "Epoch 103/110\n",
            "106/110 [===========================>..] - ETA: 0s - loss: 0.7286 - accuracy: 0.7565\n",
            "Epoch 00103: val_loss did not improve from 0.88829\n",
            "110/110 [==============================] - 2s 15ms/step - loss: 0.7225 - accuracy: 0.7572 - val_loss: 0.9215 - val_accuracy: 0.7372\n",
            "Epoch 104/110\n",
            "106/110 [===========================>..] - ETA: 0s - loss: 0.7340 - accuracy: 0.7659\n",
            "Epoch 00104: val_loss did not improve from 0.88829\n",
            "110/110 [==============================] - 1s 10ms/step - loss: 0.7295 - accuracy: 0.7658 - val_loss: 0.9115 - val_accuracy: 0.7340\n",
            "Epoch 105/110\n",
            "107/110 [============================>.] - ETA: 0s - loss: 0.7425 - accuracy: 0.7669\n",
            "Epoch 00105: val_loss did not improve from 0.88829\n",
            "110/110 [==============================] - 1s 10ms/step - loss: 0.7431 - accuracy: 0.7663 - val_loss: 0.9303 - val_accuracy: 0.7317\n",
            "Epoch 106/110\n",
            "102/110 [==========================>...] - ETA: 0s - loss: 0.7556 - accuracy: 0.7500\n",
            "Epoch 00106: val_loss did not improve from 0.88829\n",
            "110/110 [==============================] - 1s 10ms/step - loss: 0.7421 - accuracy: 0.7537 - val_loss: 0.9036 - val_accuracy: 0.7338\n",
            "Epoch 107/110\n",
            "105/110 [===========================>..] - ETA: 0s - loss: 0.7638 - accuracy: 0.7548\n",
            "Epoch 00107: val_loss did not improve from 0.88829\n",
            "110/110 [==============================] - 1s 10ms/step - loss: 0.7493 - accuracy: 0.7589 - val_loss: 0.9323 - val_accuracy: 0.7247\n",
            "Epoch 108/110\n",
            "105/110 [===========================>..] - ETA: 0s - loss: 0.7055 - accuracy: 0.7673\n",
            "Epoch 00108: val_loss did not improve from 0.88829\n",
            "110/110 [==============================] - 1s 10ms/step - loss: 0.6937 - accuracy: 0.7709 - val_loss: 0.9300 - val_accuracy: 0.7272\n",
            "Epoch 109/110\n",
            "106/110 [===========================>..] - ETA: 0s - loss: 0.7571 - accuracy: 0.7453\n",
            "Epoch 00109: val_loss did not improve from 0.88829\n",
            "110/110 [==============================] - 2s 15ms/step - loss: 0.7570 - accuracy: 0.7463 - val_loss: 0.9327 - val_accuracy: 0.7280\n",
            "Epoch 110/110\n",
            "103/110 [===========================>..] - ETA: 0s - loss: 0.7466 - accuracy: 0.7500\n",
            "Epoch 00110: val_loss did not improve from 0.88829\n",
            "110/110 [==============================] - 1s 10ms/step - loss: 0.7468 - accuracy: 0.7480 - val_loss: 0.9180 - val_accuracy: 0.7409\n",
            "Training completed in time:  0:02:24.726395\n"
          ]
        }
      ]
    },
    {
      "cell_type": "code",
      "source": [
        ""
      ],
      "metadata": {
        "id": "-udZLu4TWFBF"
      },
      "execution_count": null,
      "outputs": []
    },
    {
      "cell_type": "code",
      "source": [
        "test_accuracy=model.evaluate(X_test,y_test,verbose=0)\n",
        "print(test_accuracy[1])"
      ],
      "metadata": {
        "colab": {
          "base_uri": "https://localhost:8080/"
        },
        "id": "OzH3eZYSSKzK",
        "outputId": "55856087-1bb8-44de-e3b5-3c3b743ecd0f"
      },
      "execution_count": 54,
      "outputs": [
        {
          "output_type": "stream",
          "name": "stdout",
          "text": [
            "0.7409104108810425\n"
          ]
        }
      ]
    },
    {
      "cell_type": "code",
      "source": [
        "model.save(\"/content/drive/MyDrive/Minor Project/Saved Model/\")"
      ],
      "metadata": {
        "colab": {
          "base_uri": "https://localhost:8080/"
        },
        "id": "9RYjQasqSL1h",
        "outputId": "821a1e3b-640a-4b0f-b526-ead24c4fde00"
      },
      "execution_count": 61,
      "outputs": [
        {
          "output_type": "stream",
          "name": "stdout",
          "text": [
            "INFO:tensorflow:Assets written to: /content/drive/MyDrive/Minor Project/Saved Model/assets\n"
          ]
        }
      ]
    },
    {
      "cell_type": "code",
      "source": [
        ""
      ],
      "metadata": {
        "id": "qNeg-QzkW-BR"
      },
      "execution_count": null,
      "outputs": []
    }
  ]
}